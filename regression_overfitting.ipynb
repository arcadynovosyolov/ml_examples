{
 "cells": [
  {
   "cell_type": "markdown",
   "metadata": {},
   "source": [
    "# Regression overfitting"
   ]
  },
  {
   "cell_type": "markdown",
   "metadata": {},
   "source": [
    "In this note we demonstrate model overfitting in case of using simple linear polynomial regression of different power. To avoid overfitting one may reserve testing portion of data, and use the error of approximation on that portion as a quality measure."
   ]
  },
  {
   "cell_type": "code",
   "execution_count": 1,
   "metadata": {
    "collapsed": false
   },
   "outputs": [
    {
     "name": "stdout",
     "output_type": "stream",
     "text": [
      "Populating the interactive namespace from numpy and matplotlib\n"
     ]
    }
   ],
   "source": [
    "import pandas as pd\n",
    "%pylab inline"
   ]
  },
  {
   "cell_type": "markdown",
   "metadata": {},
   "source": [
    "## Model data"
   ]
  },
  {
   "cell_type": "markdown",
   "metadata": {},
   "source": [
    "We generate random train data of the sort $Y_i=f(X_i)+\\varepsilon_i$, where $X_i,\\,i=1,\\dots,n$ stand for a sample from the unoform distribution on $[a,b]$, errors $\\varepsilon_i,\\,i=1,\\dots,n$ are taken from the normal distribution with zero mean and standard deviation $\\sigma=0.15$. $n$ stands for sample size. The function $f$ is a sine function $f(x)=\\sin(m\\pi x),\\, x\\in[a,b]$, where $m$ reflects complexity of the model. Testing models is implemented using the test sample $X_i^{(te)},\\,i=1,\\dots,n,\\;Y_i^{(te)}=f(X_i^{(te)})+\\varepsilon_i^{(te)}$, where $\\varepsilon_i^{(te)}$ is another sample from the same normal distribution."
   ]
  },
  {
   "cell_type": "code",
   "execution_count": 2,
   "metadata": {
    "collapsed": true
   },
   "outputs": [],
   "source": [
    "# define test finction sin(m * pi * x)\n",
    "m = 1\n",
    "def f(x):\n",
    "    return np.sin(m * np.pi * x)"
   ]
  },
  {
   "cell_type": "markdown",
   "metadata": {},
   "source": [
    "### Define interval bounds"
   ]
  },
  {
   "cell_type": "code",
   "execution_count": 3,
   "metadata": {
    "collapsed": true
   },
   "outputs": [],
   "source": [
    "a = 0.3\n",
    "b = 0.8"
   ]
  },
  {
   "cell_type": "code",
   "execution_count": 4,
   "metadata": {
    "collapsed": false
   },
   "outputs": [
    {
     "data": {
      "image/png": "[encoded data removed]",
      "text/plain": [
       "<matplotlib.figure.Figure at 0x23ef04ca208>"
      ]
     },
     "metadata": {},
     "output_type": "display_data"
    }
   ],
   "source": [
    "# generate data\n",
    "n_tr = 20\n",
    "n_te = int(0.5 * n_tr)\n",
    "sigma = 0.05\n",
    "\n",
    "#train data\n",
    "x_tr = (b - a) * np.random.uniform(size=(n_tr,)) + a\n",
    "err_tr = np.random.normal(scale=sigma, size=(n_tr,))\n",
    "y_tr = f(x_tr) + err_tr\n",
    "\n",
    "#test data\n",
    "x_te = (b - a) * np.random.uniform(size=(n_te,)) + a\n",
    "err_te = np.random.normal(scale=sigma, size=(n_te,))\n",
    "y_te = f(x_te) + err_te\n",
    "\n",
    "# Exact model point for comparison\n",
    "xm = np.linspace(a,b,101)\n",
    "ym = f(xm)\n",
    "\n",
    "# look at the data and model\n",
    "scatter(x_tr, y_tr, label='Train')\n",
    "scatter(x_te, y_te, c='y', label='Test')\n",
    "plot(xm, ym, c='r', label='Exact')\n",
    "ll = legend(loc='best')"
   ]
  },
  {
   "cell_type": "markdown",
   "metadata": {},
   "source": [
    "## Polynomial models"
   ]
  },
  {
   "cell_type": "markdown",
   "metadata": {},
   "source": [
    "Now move to creating polynomial models of different orders. We set the model order by creating the dataset $X$ containing all the relevant powers of $x$. The following function does exactly this."
   ]
  },
  {
   "cell_type": "code",
   "execution_count": 5,
   "metadata": {
    "collapsed": false
   },
   "outputs": [],
   "source": [
    "def create_powers_data(x, pw):\n",
    "    \"\"\" takes array x, and returns a multicolumn dataframe\n",
    "    with powers of x from 0 all the way up to pw in columns\n",
    "    \"\"\"\n",
    "    xs = pd.Series(x, name='power_1')\n",
    "    n = len(x)\n",
    "    df = pd.DataFrame(np.ones((n,1)), columns=['power_0'])\n",
    "    if pw > 0:\n",
    "        for i in range(1, pw+1):\n",
    "            cln = 'power_{0}'.format(i)\n",
    "            df[cln] = xs.apply(lambda x: x ** i)\n",
    "    return df"
   ]
  },
  {
   "cell_type": "markdown",
   "metadata": {},
   "source": [
    "Import linear regression class"
   ]
  },
  {
   "cell_type": "code",
   "execution_count": 6,
   "metadata": {
    "collapsed": false
   },
   "outputs": [],
   "source": [
    "from sklearn.linear_model import LinearRegression\n",
    "md = LinearRegression()"
   ]
  },
  {
   "cell_type": "code",
   "execution_count": 7,
   "metadata": {
    "collapsed": true
   },
   "outputs": [],
   "source": [
    "# create a function for a model of order pw\n",
    "def fixed_order_func(pw, show_plots=False):\n",
    "    \"\"\" \"\"\"\n",
    "    df_tr = create_powers_data(x_tr, pw)\n",
    "    md.fit(df_tr, y_tr)\n",
    "    yp_tr = md.predict(df_tr)\n",
    "    df_te = create_powers_data(x_te, pw)\n",
    "    yp_te = md.predict(df_te)\n",
    "    sq0te = np.sqrt(((y_te - yp_te) ** 2).mean())\n",
    "    sq_te.append(sq0te)\n",
    "    sq0tr = np.sqrt(((y_tr - yp_tr) ** 2).mean())\n",
    "    sq_tr.append(sq0tr)\n",
    "    if show_plots:\n",
    "        df_tm = create_powers_data(xm, pw)\n",
    "        ymp = md.predict(df_tm)\n",
    "        print('order: {0}, training error: {1:6.2f}, test error: {2:6.2f}'.format(pw, sq0tr, sq0te))\n",
    "        scatter(x_tr, y_tr, label='Train')\n",
    "        scatter(x_te, y_te, c='y', label='Test')\n",
    "        plot(xm, ym, c='r', label='Exact')\n",
    "        plot(xm, ymp, c='g', label='Model')\n",
    "        legend(loc='best')"
   ]
  },
  {
   "cell_type": "markdown",
   "metadata": {},
   "source": [
    "### Run all models"
   ]
  },
  {
   "cell_type": "code",
   "execution_count": 8,
   "metadata": {
    "collapsed": false
   },
   "outputs": [
    {
     "data": {
      "image/png": "[encoded data removed]",
      "text/plain": [
       "<matplotlib.figure.Figure at 0x23ef140a390>"
      ]
     },
     "metadata": {},
     "output_type": "display_data"
    }
   ],
   "source": [
    "# create RMSE lists\n",
    "sq_te = list()\n",
    "sq_tr = list()\n",
    "\n",
    "# build all the models\n",
    "for i in range(0, 2 * m + 7):\n",
    "    fixed_order_func(i)\n",
    "\n",
    "# plot train and test errors\n",
    "s_tr = np.array(sq_tr)\n",
    "s_te = np.array(sq_te)\n",
    "ind = (s_te <= 2)\n",
    "plot(s_tr[ind], label='Train')\n",
    "plot(s_te[ind], 'r', label='Test')\n",
    "ll = legend(loc='best')"
   ]
  },
  {
   "cell_type": "markdown",
   "metadata": {},
   "source": [
    "### Plot the data and the best model, according to test error value"
   ]
  },
  {
   "cell_type": "markdown",
   "metadata": {},
   "source": [
    "The test error varies slowly for orders 4 and greater, so in spite of order 8 being optimal, using order 6 actually descreases overfitting. Denote $s_0,\\dots,N$ the sequence of test error values for all model orders from 0 up to $N$, and let\n",
    "$$N_*=\\arg\\min_{i=0,\\dots,N} {s_i}.$$\n",
    "We call $\\tilde{N}$ the suboptimal order if it equals the minimum order such that the error exceeds the optimum error by at most $100\\gamma\\%$, where $\\gamma$ is a parameter:\n",
    "$$ \\tilde{N} = \\min\\{i:\\, s_i\\leq(1+\\gamma)s_{N_*}\\}. $$"
   ]
  },
  {
   "cell_type": "code",
   "execution_count": 9,
   "metadata": {
    "collapsed": false
   },
   "outputs": [
    {
     "name": "stdout",
     "output_type": "stream",
     "text": [
      "optimal order: 2, suboptimal order 2\n",
      "order: 2, training error:   0.05, test error:   0.06\n"
     ]
    },
    {
     "data": {
      "image/png": "[encoded data removed]",
      "text/plain": [
       "<matplotlib.figure.Figure at 0x23ef1495fd0>"
      ]
     },
     "metadata": {},
     "output_type": "display_data"
    }
   ],
   "source": [
    "# order of minimum test error\n",
    "nmb = s_te.argmin()\n",
    "\n",
    "# minimum order such that the error is greater than optimal by less than 10%\n",
    "ss = (s_te/s_te[nmb] <= 1.1).nonzero()[0][0]\n",
    "\n",
    "print('optimal order: {0}, suboptimal order {1}'.format(nmb, ss))\n",
    "\n",
    "# suboptimal model\n",
    "fixed_order_func(ss, True)"
   ]
  }
 ],
 "metadata": {
  "anaconda-cloud": {},
  "kernelspec": {
   "display_name": "Python 3",
   "language": "python",
   "name": "python3"
  },
  "language_info": {
   "codemirror_mode": {
    "name": "ipython",
    "version": 3
   },
   "file_extension": ".py",
   "mimetype": "text/x-python",
   "name": "python",
   "nbconvert_exporter": "python",
   "pygments_lexer": "ipython3",
   "version": "3.6.0"
  }
 },
 "nbformat": 4,
 "nbformat_minor": 1
}
